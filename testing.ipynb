{
 "cells": [
  {
   "cell_type": "code",
   "execution_count": 1,
   "id": "copyrighted-respect",
   "metadata": {},
   "outputs": [],
   "source": [
    "import os\n",
    "import json\n",
    "from selenium import webdriver\n",
    "from selenium.webdriver.common.by import By\n",
    "import re\n",
    "from geopy.geocoders import Nominatim\n",
    "import numpy as np\n",
    "import folium\n",
    "import pandas as pd\n",
    "import time"
   ]
  },
  {
   "cell_type": "code",
   "execution_count": 2,
   "id": "economic-barbados",
   "metadata": {},
   "outputs": [],
   "source": [
    "def load_settings():\n",
    "    with open('settings.json', encoding='utf8') as f:\n",
    "        settings = json.load(f)\n",
    "    return settings"
   ]
  },
  {
   "cell_type": "code",
   "execution_count": 3,
   "id": "protective-criterion",
   "metadata": {},
   "outputs": [],
   "source": [
    "settings = load_settings()"
   ]
  },
  {
   "cell_type": "code",
   "execution_count": 7,
   "id": "buried-hopkins",
   "metadata": {},
   "outputs": [],
   "source": [
    "def get_html(\n",
    "    settings,\n",
    "    page_init = str(1),\n",
    "\n",
    "):\n",
    "    #Set vars\n",
    "    url_init = settings['url_init']['url']\n",
    "    user_agent = settings['scraper_user_agent']\n",
    "    file_name = settings['file_name']\n",
    "    filter_start = settings['url_init']['size_filter']['min']\n",
    "    filter_end = settings['url_init']['size_filter']['max']\n",
    "    filter_step = settings['url_init']['size_filter']['step']\n",
    "    \n",
    "    # Set up the browser\n",
    "    options = webdriver.ChromeOptions()\n",
    "    options.add_argument('--headless=new')  # Run the browser in headless mode (without GUI)\n",
    "    #user_agent = 'Mozilla/5.0 (X11; Linux x86_64) AppleWebKit/537.36 (KHTML, like Gecko) Chrome/60.0.3112.50 Safari/537.36'\n",
    "    options.add_argument(f'user-agent={user_agent}')\n",
    "    \n",
    "    driver=webdriver.Chrome(options=options)\n",
    "    \n",
    "    start = filter_start\n",
    "    href_links_final = []\n",
    "    \n",
    "    while start < filter_end:\n",
    "        try:\n",
    "            driver=webdriver.Chrome(options=options)\n",
    "            # Navigate to the URL\n",
    "            url_filt = url_init.format(\n",
    "                start,\n",
    "                start+filter_step\n",
    "            )+page_init\n",
    "            driver.get(url_filt)\n",
    "\n",
    "            # Get the HTML content\n",
    "            #html_content = driver.page_source\n",
    "\n",
    "            #Total number of pages\n",
    "            pages =  driver.find_element('xpath','.//span[@class = \"text-battleship\"]').get_attribute(\"textContent\")\n",
    "            page_num = int(re.findall(r'\\d+', pages)[0])\n",
    "\n",
    "        finally:\n",
    "            # Close the browser\n",
    "            driver.quit()\n",
    "\n",
    "        #link collector\n",
    "        href_links_all = []\n",
    "\n",
    "        for i in range(page_num): #page_num\n",
    "            #Get updated url\n",
    "            driver=webdriver.Chrome(options=options)\n",
    "            url = url_init.format(\n",
    "                start,\n",
    "                start+filter_step\n",
    "            )+ str(i+1)\n",
    "            driver.get(url)\n",
    "\n",
    "            #Links\n",
    "            ids = driver.find_elements(by=By.XPATH, value=\"//a[@data-listing-id]\")\n",
    "            href_links = [\"https://ingatlan.com/\" + e.get_attribute(\"data-listing-id\") for e in ids]\n",
    "            href_links_all.extend(href_links)\n",
    "\n",
    "            # Close the browser\n",
    "            driver.quit()\n",
    "\n",
    "            print(f\"{i+1}/{page_num} is done\")\n",
    "        \n",
    "        href_links_final.extend(href_links_all) \n",
    "        \n",
    "        start+=filter_step\n",
    "        print(f'{url_init.format(start,start+filter_step)} finished')\n",
    "        \n",
    "    \n",
    "    with open(r'{}'.format(file_name), 'w') as fp:\n",
    "        for item in href_links_final:\n",
    "            fp.write(\"%s\\n\" % item)\n",
    "    \n",
    "\n",
    "    return href_links_final"
   ]
  },
  {
   "cell_type": "code",
   "execution_count": 8,
   "id": "neutral-habitat",
   "metadata": {},
   "outputs": [
    {
     "name": "stdout",
     "output_type": "stream",
     "text": [
      "1/8 is done\n",
      "2/8 is done\n",
      "3/8 is done\n",
      "4/8 is done\n",
      "5/8 is done\n",
      "6/8 is done\n",
      "7/8 is done\n",
      "8/8 is done\n",
      "https://ingatlan.com/lista/elado+lakas+80-82-m2+budapest-budai-oldal+2-szoba-felett+70-120-mFt?page= finished\n",
      "1/9 is done\n",
      "2/9 is done\n",
      "3/9 is done\n",
      "4/9 is done\n",
      "5/9 is done\n",
      "6/9 is done\n",
      "7/9 is done\n",
      "8/9 is done\n",
      "9/9 is done\n",
      "https://ingatlan.com/lista/elado+lakas+82-84-m2+budapest-budai-oldal+2-szoba-felett+70-120-mFt?page= finished\n"
     ]
    }
   ],
   "source": [
    "#Possible urr error\n",
    "href_links_all = get_html(settings = settings)"
   ]
  },
  {
   "cell_type": "code",
   "execution_count": 9,
   "id": "taken-politics",
   "metadata": {},
   "outputs": [
    {
     "data": {
      "text/plain": [
       "326"
      ]
     },
     "execution_count": 9,
     "metadata": {},
     "output_type": "execute_result"
    }
   ],
   "source": [
    "len(href_links_all)"
   ]
  }
 ],
 "metadata": {
  "kernelspec": {
   "display_name": "Python 3",
   "language": "python",
   "name": "python3"
  },
  "language_info": {
   "codemirror_mode": {
    "name": "ipython",
    "version": 3
   },
   "file_extension": ".py",
   "mimetype": "text/x-python",
   "name": "python",
   "nbconvert_exporter": "python",
   "pygments_lexer": "ipython3",
   "version": "3.9.2"
  }
 },
 "nbformat": 4,
 "nbformat_minor": 5
}
