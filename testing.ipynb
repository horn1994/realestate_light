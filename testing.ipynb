{
 "cells": [
  {
   "cell_type": "code",
   "execution_count": 1,
   "id": "copyrighted-respect",
   "metadata": {},
   "outputs": [],
   "source": [
    "import os\n",
    "import json\n",
    "from selenium import webdriver\n",
    "from selenium.webdriver.common.by import By\n",
    "import re\n",
    "from geopy.geocoders import Nominatim\n",
    "import numpy as np\n",
    "import folium\n",
    "import pandas as pd\n",
    "import time"
   ]
  },
  {
   "cell_type": "code",
   "execution_count": 2,
   "id": "economic-barbados",
   "metadata": {},
   "outputs": [],
   "source": [
    "def load_settings():\n",
    "    with open('settings.json', encoding='utf8') as f:\n",
    "        settings = json.load(f)\n",
    "    return settings"
   ]
  },
  {
   "cell_type": "code",
   "execution_count": 3,
   "id": "protective-criterion",
   "metadata": {},
   "outputs": [],
   "source": [
    "settings = load_settings()"
   ]
  },
  {
   "cell_type": "code",
   "execution_count": 7,
   "id": "buried-hopkins",
   "metadata": {},
   "outputs": [],
   "source": [
    "def get_html(\n",
    "    settings,\n",
    "    page_init = str(1),\n",
    "\n",
    "):\n",
    "    #Set vars\n",
    "    url_init = settings['url_init']['url']\n",
    "    user_agent = settings['scraper_user_agent']\n",
    "    file_name = settings['file_name']\n",
    "    filter_start = settings['url_init']['size_filter']['min']\n",
    "    filter_end = settings['url_init']['size_filter']['max']\n",
    "    filter_step = settings['url_init']['size_filter']['step']\n",
    "    \n",
    "    # Set up the browser\n",
    "    options = webdriver.ChromeOptions()\n",
    "    options.add_argument('--headless=new')  # Run the browser in headless mode (without GUI)\n",
    "    #user_agent = 'Mozilla/5.0 (X11; Linux x86_64) AppleWebKit/537.36 (KHTML, like Gecko) Chrome/60.0.3112.50 Safari/537.36'\n",
    "    options.add_argument(f'user-agent={user_agent}')\n",
    "    \n",
    "    driver=webdriver.Chrome(options=options)\n",
    "    \n",
    "    start = filter_start\n",
    "    href_links_final = []\n",
    "    \n",
    "    while start < filter_end:\n",
    "        try:\n",
    "            driver=webdriver.Chrome(options=options)\n",
    "            # Navigate to the URL\n",
    "            url_filt = url_init.format(\n",
    "                start,\n",
    "                start+filter_step\n",
    "            )+page_init\n",
    "            driver.get(url_filt)\n",
    "\n",
    "            # Get the HTML content\n",
    "            #html_content = driver.page_source\n",
    "\n",
    "            #Total number of pages\n",
    "            pages =  driver.find_element('xpath','.//span[@class = \"text-battleship\"]').get_attribute(\"textContent\")\n",
    "            page_num = int(re.findall(r'\\d+', pages)[0])\n",
    "\n",
    "        finally:\n",
    "            # Close the browser\n",
    "            driver.quit()\n",
    "\n",
    "        #link collector\n",
    "        href_links_all = []\n",
    "\n",
    "        for i in range(page_num): #page_num\n",
    "            #Get updated url\n",
    "            driver=webdriver.Chrome(options=options)\n",
    "            url = url_init.format(\n",
    "                start,\n",
    "                start+filter_step\n",
    "            )+ str(i+1)\n",
    "            driver.get(url)\n",
    "\n",
    "            #Links\n",
    "            ids = driver.find_elements(by=By.XPATH, value=\"//a[@data-listing-id]\")\n",
    "            href_links = [\"https://ingatlan.com/\" + e.get_attribute(\"data-listing-id\") for e in ids]\n",
    "            href_links_all.extend(href_links)\n",
    "\n",
    "            # Close the browser\n",
    "            driver.quit()\n",
    "\n",
    "            print(f\"{i+1}/{page_num} is done\")\n",
    "        \n",
    "        href_links_final.extend(href_links_all) \n",
    "        \n",
    "        start+=filter_step\n",
    "        print(f'{url_init.format(start,start+filter_step)} finished')\n",
    "        \n",
    "    \n",
    "    with open(r'{}'.format(file_name), 'w') as fp:\n",
    "        for item in href_links_final:\n",
    "            fp.write(\"%s\\n\" % item)\n",
    "    \n",
    "\n",
    "    return href_links_final"
   ]
  },
  {
   "cell_type": "code",
   "execution_count": 8,
   "id": "neutral-habitat",
   "metadata": {},
   "outputs": [
    {
     "name": "stdout",
     "output_type": "stream",
     "text": [
      "1/8 is done\n",
      "2/8 is done\n",
      "3/8 is done\n",
      "4/8 is done\n",
      "5/8 is done\n",
      "6/8 is done\n",
      "7/8 is done\n",
      "8/8 is done\n",
      "https://ingatlan.com/lista/elado+lakas+80-82-m2+budapest-budai-oldal+2-szoba-felett+70-120-mFt?page= finished\n",
      "1/9 is done\n",
      "2/9 is done\n",
      "3/9 is done\n",
      "4/9 is done\n",
      "5/9 is done\n",
      "6/9 is done\n",
      "7/9 is done\n",
      "8/9 is done\n",
      "9/9 is done\n",
      "https://ingatlan.com/lista/elado+lakas+82-84-m2+budapest-budai-oldal+2-szoba-felett+70-120-mFt?page= finished\n"
     ]
    }
   ],
   "source": [
    "#Possible urr error\n",
    "href_links_all = get_html(settings = settings)"
   ]
  },
  {
   "cell_type": "code",
   "execution_count": 9,
   "id": "taken-politics",
   "metadata": {},
   "outputs": [
    {
     "data": {
      "text/plain": [
       "326"
      ]
     },
     "execution_count": 9,
     "metadata": {},
     "output_type": "execute_result"
    }
   ],
   "source": [
    "len(href_links_all)"
   ]
  },
  {
   "cell_type": "code",
   "execution_count": 12,
   "id": "competitive-psychology",
   "metadata": {},
   "outputs": [
    {
     "name": "stderr",
     "output_type": "stream",
     "text": [
      "<ipython-input-12-e713e096c7c6>:1: FutureWarning: The behavior of 'to_datetime' with 'unit' when parsing strings is deprecated. In a future version, strings will be parsed as datetime strings, matching the behavior without a 'unit'. To retain the old behavior, explicitly cast ints or floats to numeric type before calling to_datetime.\n",
      "  data = pd.read_json(\"data/all_data_buda_backup.json\").T\n"
     ]
    }
   ],
   "source": [
    "data = pd.read_json(\"data/all_data_buda_backup.json\").T"
   ]
  },
  {
   "cell_type": "code",
   "execution_count": 13,
   "id": "boxed-starter",
   "metadata": {},
   "outputs": [],
   "source": [
    "data.reset_index(inplace = True)"
   ]
  },
  {
   "cell_type": "code",
   "execution_count": 17,
   "id": "independent-heath",
   "metadata": {},
   "outputs": [],
   "source": [
    "data.rename(columns={'index':'scrape_time'}, inplace = True)"
   ]
  },
  {
   "cell_type": "code",
   "execution_count": 31,
   "id": "progressive-powell",
   "metadata": {},
   "outputs": [],
   "source": [
    "def create_map(settings):\n",
    "    \n",
    "    data = pd.read_json(settings['data_file_name']).T\n",
    "    \n",
    "    #Get scraping time\n",
    "    data.reset_index(inplace = True)\n",
    "    data.rename(columns={'index':'scrape_time'}, inplace = True)\n",
    "    \n",
    "    # Get data filters from settings\n",
    "    filter_dict = settings['filters']\n",
    "\n",
    "    # Use filter to reduce datasize\n",
    "    for column, conditions in filter_dict.items():\n",
    "        data = data[(data[column] >= conditions['min']) & (data[column] < conditions['max'])].copy()\n",
    "    \n",
    "    #Create map    \n",
    "    m2 = folium.Map([47.5025527, 19.0321423], zoom_start=11.5)\n",
    "    \n",
    "    for i,row in data.iterrows():\n",
    "        coordinates = row[\"Koordináták\"]\n",
    "        url = row['url']\n",
    "        price = row[\"Ár_millió\"]\n",
    "        size = row[\"Alapterület\"]\n",
    "        rooms = row[\"Szobák\"]\n",
    "        scraping_time = row[\"scrape_time\"]\n",
    "\n",
    "        if coordinates is not None:\n",
    "            iframe = folium.IFrame(\n",
    "                f'''\n",
    "                URL: <a href={url}>{url}</a><br> Price (mill): {price}<br> Size (m2): {size}<br> \\\n",
    "                Rooms (full-sized): {rooms}<br> Scraping time: {scraping_time}<br>\n",
    "                '''\n",
    "            )\n",
    "            popup = folium.Popup(iframe,\n",
    "                                 min_width=230,\n",
    "                                 max_width=230)\n",
    "            folium.Marker(\n",
    "                location=row[\"Koordináták\"],\n",
    "                tooltip=\"Details\",\n",
    "                popup=popup,\n",
    "                icon=folium.Icon(color=\"blue\"),\n",
    "            ).add_to(m2)\n",
    "\n",
    "    return m2.save(settings[\"map_file_name\"])"
   ]
  },
  {
   "cell_type": "code",
   "execution_count": 32,
   "id": "brown-penalty",
   "metadata": {},
   "outputs": [
    {
     "name": "stderr",
     "output_type": "stream",
     "text": [
      "<ipython-input-31-fbef97f7970b>:3: FutureWarning: The behavior of 'to_datetime' with 'unit' when parsing strings is deprecated. In a future version, strings will be parsed as datetime strings, matching the behavior without a 'unit'. To retain the old behavior, explicitly cast ints or floats to numeric type before calling to_datetime.\n",
      "  data = pd.read_json(\"data/all_data_buda_backup.json\").T\n"
     ]
    }
   ],
   "source": [
    "create_map(settings)"
   ]
  },
  {
   "cell_type": "code",
   "execution_count": 2,
   "id": "chronic-manner",
   "metadata": {},
   "outputs": [],
   "source": [
    "import json\n",
    " \n",
    "# Opening JSON file\n",
    "f = open(\"data/all_data_buda.json\", encoding = 'utf-8')\n",
    " \n",
    "# returns JSON object as \n",
    "# a dictionary\n",
    "data = json.load(f)\n",
    " \n",
    "# Iterating through the json\n",
    "# list\n",
    "\n",
    "# Closing file\n",
    "f.close()"
   ]
  },
  {
   "cell_type": "code",
   "execution_count": 3,
   "id": "b6dc5fa3",
   "metadata": {},
   "outputs": [],
   "source": [
    "from functions import enrich_data"
   ]
  },
  {
   "cell_type": "code",
   "execution_count": 4,
   "id": "78f58c6b",
   "metadata": {},
   "outputs": [
    {
     "name": "stdout",
     "output_type": "stream",
     "text": [
      "Enriching data with coordinates..\n",
      "All done\n"
     ]
    }
   ],
   "source": [
    "data_new = enrich_data(data)"
   ]
  },
  {
   "cell_type": "code",
   "execution_count": 5,
   "id": "3803ef2f",
   "metadata": {},
   "outputs": [
    {
     "ename": "NameError",
     "evalue": "name 'all_data' is not defined",
     "output_type": "error",
     "traceback": [
      "\u001b[0;31m---------------------------------------------------------------------------\u001b[0m",
      "\u001b[0;31mNameError\u001b[0m                                 Traceback (most recent call last)",
      "Input \u001b[0;32mIn [5]\u001b[0m, in \u001b[0;36m<cell line: 2>\u001b[0;34m()\u001b[0m\n\u001b[1;32m      1\u001b[0m save_file \u001b[38;5;241m=\u001b[39m \u001b[38;5;28mopen\u001b[39m(\u001b[38;5;124m\"\u001b[39m\u001b[38;5;124mdata/all_data_buda.json\u001b[39m\u001b[38;5;124m\"\u001b[39m, \u001b[38;5;124m\"\u001b[39m\u001b[38;5;124mw\u001b[39m\u001b[38;5;124m\"\u001b[39m, encoding\u001b[38;5;241m=\u001b[39m\u001b[38;5;124m'\u001b[39m\u001b[38;5;124mutf8\u001b[39m\u001b[38;5;124m'\u001b[39m)  \n\u001b[0;32m----> 2\u001b[0m json\u001b[38;5;241m.\u001b[39mdump(\u001b[43mall_data\u001b[49m, save_file, indent \u001b[38;5;241m=\u001b[39m \u001b[38;5;241m6\u001b[39m, ensure_ascii\u001b[38;5;241m=\u001b[39m\u001b[38;5;28;01mFalse\u001b[39;00m)  \n\u001b[1;32m      3\u001b[0m save_file\u001b[38;5;241m.\u001b[39mclose()\n",
      "\u001b[0;31mNameError\u001b[0m: name 'all_data' is not defined"
     ]
    }
   ],
   "source": [
    "save_file = open(\"data/all_data_buda.json\", \"w\", encoding='utf8')  \n",
    "json.dump(all_data, save_file, indent = 6, ensure_ascii=False)  \n",
    "save_file.close()"
   ]
  },
  {
   "cell_type": "code",
   "execution_count": null,
   "id": "13c1bb5a",
   "metadata": {},
   "outputs": [],
   "source": []
  },
  {
   "cell_type": "code",
   "execution_count": 23,
   "id": "governmental-industry",
   "metadata": {
    "scrolled": false
   },
   "outputs": [],
   "source": [
    "for i,v in data.items():\n",
    "    if \"Pontos_cím\" not in data[i]:\n",
    "        print(i)\n",
    "        print(data[i])"
   ]
  },
  {
   "cell_type": "code",
   "execution_count": 25,
   "id": "headed-notification",
   "metadata": {},
   "outputs": [],
   "source": [
    "def enrich_data(all_data):\n",
    "    print(\"Enriching data with coordinates..\")\n",
    "    \n",
    "    geolocator = Nominatim(user_agent=\"realestate-locator\")\n",
    "    \n",
    "    for i,v in all_data.items():\n",
    "        if \"Pontos_cím\" not in all_data[i]:\n",
    "            try:\n",
    "                location = geolocator.geocode(v[\"Cím\"])\n",
    "                all_data[i][\"Pontos_cím\"] = location.address\n",
    "                all_data[i][\"Koordináták\"] = (location.latitude, location.longitude)\n",
    "            except AttributeError:\n",
    "                all_data[i][\"Pontos_cím\"] = np.nan\n",
    "                all_data[i][\"Koordináták\"] = np.nan\n",
    "        else:\n",
    "            pass\n",
    "        \n",
    "    print(\"All done\")\n",
    "    \n",
    "    return all_data"
   ]
  },
  {
   "cell_type": "code",
   "execution_count": 26,
   "id": "introductory-fluid",
   "metadata": {},
   "outputs": [
    {
     "name": "stdout",
     "output_type": "stream",
     "text": [
      "Enriching data with coordinates..\n",
      "All done\n"
     ]
    }
   ],
   "source": [
    "data_new = enrich_data(data)"
   ]
  },
  {
   "cell_type": "code",
   "execution_count": 21,
   "id": "personalized-regular",
   "metadata": {},
   "outputs": [
    {
     "data": {
      "text/plain": [
       "732"
      ]
     },
     "execution_count": 21,
     "metadata": {},
     "output_type": "execute_result"
    }
   ],
   "source": [
    "len(data_new)"
   ]
  },
  {
   "cell_type": "code",
   "execution_count": 22,
   "id": "endless-uzbekistan",
   "metadata": {},
   "outputs": [
    {
     "data": {
      "text/plain": [
       "732"
      ]
     },
     "execution_count": 22,
     "metadata": {},
     "output_type": "execute_result"
    }
   ],
   "source": [
    "len(data)"
   ]
  },
  {
   "cell_type": "code",
   "execution_count": null,
   "id": "seeing-macro",
   "metadata": {},
   "outputs": [],
   "source": []
  }
 ],
 "metadata": {
  "kernelspec": {
   "display_name": "Python 3 (ipykernel)",
   "language": "python",
   "name": "python3"
  },
  "language_info": {
   "codemirror_mode": {
    "name": "ipython",
    "version": 3
   },
   "file_extension": ".py",
   "mimetype": "text/x-python",
   "name": "python",
   "nbconvert_exporter": "python",
   "pygments_lexer": "ipython3",
   "version": "3.10.12"
  }
 },
 "nbformat": 4,
 "nbformat_minor": 5
}
